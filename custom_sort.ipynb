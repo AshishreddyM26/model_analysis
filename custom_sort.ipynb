{
 "cells": [
  {
   "cell_type": "code",
   "execution_count": 4,
   "metadata": {},
   "outputs": [
    {
     "ename": "NameError",
     "evalue": "name 'det_utilities' is not defined",
     "output_type": "error",
     "traceback": [
      "\u001b[1;31m---------------------------------------------------------------------------\u001b[0m",
      "\u001b[1;31mNameError\u001b[0m                                 Traceback (most recent call last)",
      "Cell \u001b[1;32mIn[4], line 13\u001b[0m\n\u001b[0;32m     10\u001b[0m \u001b[38;5;28;01mimport\u001b[39;00m \u001b[38;5;21;01mcv2\u001b[39;00m\n\u001b[0;32m     11\u001b[0m \u001b[38;5;66;03m# from main import ByteTrack_CropCounter\u001b[39;00m\n\u001b[0;32m     12\u001b[0m \u001b[38;5;66;03m# from main import \u001b[39;00m\n\u001b[1;32m---> 13\u001b[0m det_utils \u001b[38;5;241m=\u001b[39m \u001b[43mdet_utilities\u001b[49m()\n\u001b[0;32m     14\u001b[0m win_analysis \u001b[38;5;241m=\u001b[39m window_analysis()\n\u001b[0;32m     16\u001b[0m bt_counter \u001b[38;5;241m=\u001b[39m ByteTrack_CropCounter()\n",
      "\u001b[1;31mNameError\u001b[0m: name 'det_utilities' is not defined"
     ]
    }
   ],
   "source": [
    "\n",
    "from ultralytics import YOLO\n",
    "from mot_utilities import det_utilities\n",
    "from mot_utilities import window_analysis\n",
    "\n",
    "import matplotlib.pyplot as plt\n",
    "import supervision as sv\n",
    "import pandas as pd\n",
    "import numpy as np\n",
    "import math\n",
    "import cv2\n",
    "from main import ByteTrack_CropCounter\n",
    "from main import SORT_CropCounter\n",
    "det_utils = det_utilities()\n",
    "win_analysis = window_analysis()\n",
    "\n",
    "bt_counter = ByteTrack_CropCounter()\n",
    "sort_counter = SORT_CropCounter()"
   ]
  },
  {
   "cell_type": "code",
   "execution_count": null,
   "metadata": {},
   "outputs": [],
   "source": [
    "\n",
    "xmin_limits1 = [350, 735, 1147, 1689, 2270, 2716, 3090, 3493]\n",
    "xmax_limits1 = [736, 1089, 1540, 2089, 2533, 3048, 3453, 3747]\n",
    "\n",
    "xmin_limits2 = [350, 725, 1134, 1674, 2236, 2678, 3140, 3476]\n",
    "xmax_limits2 = [720, 1100, 1517, 1974, 2540, 3034, 3440, 3768]\n",
    "\n",
    "y1 = [1045, 1010, 975, 940, 905, 870, 835, 800, 765, 730, 695, 660, 625, 590, 555, 520, 485, 450, 415, 380, 345, \n",
    "      310, 275, 240, 205, 170, 135, 100, 65, 30, 0]\n",
    "\n",
    "y2 = [1115, 1150, 1185, 1220, 1255, 1290, 1325, 1360, 1395, 1430, 1465, 1500, 1535, 1570, 1605, 1640, 1675, 1710, \n",
    "      1745, 1780, 1815, 1850, 1885, 1920, 1955, 1990, 2025, 2060, 2095, 2130, 2160]\n",
    "\n",
    "# xcenters1 = [543.0, 886.5, 1343.5, 1889.0, 2401.5, 2882.0, 3253.5, 3561.5] \n",
    "# xcenters2 = [487.0, 760.0, 1150.0, 1673.5, 2226.0, 2746.0, 3201.0, 3510.5] \n",
    "\n",
    "xcenters1 = [(a + b) / 2 for a, b in zip(xmin_limits1, xmax_limits1)]     # -- X centers of setA\n",
    "xcenters2 = [(c + d) / 2 for c, d in zip(xmin_limits2, xmax_limits2)]   # -- X centers of setB\n",
    "\n",
    "xlow_lim = [321, 684, 1134, 1674, 2236, 2678, 3054, 3363]\n",
    "xhigh_lim = [749, 1092, 1540, 2089, 2539, 3048, 3452, 3768]\n",
    "\n",
    "ycenters = [1080] * 8\n",
    "\n",
    "horizontal_va1 = counter.calculate_angles(xmin_limits1, ycenters)\n",
    "horizontal_va2 = counter.calculate_angles(xmax_limits1, ycenters)\n",
    "vertical_fov = counter.calculate_vertical_fov()\n",
    "\n",
    "horz_va1 = []\n",
    "horz_va2 = []\n",
    "\n",
    "for i in range(8):\n",
    "    \n",
    "    horz_va1.append(np.round(horizontal_va1[i], 2))\n",
    "    horz_va2.append(np.round(horizontal_va2[i], 2))\n",
    "    \n",
    "print(horz_va1)\n",
    "print(horz_va2)\n",
    "\n",
    "print(vertical_fov)"
   ]
  },
  {
   "cell_type": "code",
   "execution_count": null,
   "metadata": {},
   "outputs": [],
   "source": []
  }
 ],
 "metadata": {
  "kernelspec": {
   "display_name": "Python 3",
   "language": "python",
   "name": "python3"
  },
  "language_info": {
   "codemirror_mode": {
    "name": "ipython",
    "version": 3
   },
   "file_extension": ".py",
   "mimetype": "text/x-python",
   "name": "python",
   "nbconvert_exporter": "python",
   "pygments_lexer": "ipython3",
   "version": "3.12.4"
  }
 },
 "nbformat": 4,
 "nbformat_minor": 2
}
