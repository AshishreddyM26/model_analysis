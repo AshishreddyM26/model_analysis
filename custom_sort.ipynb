{
 "cells": [
  {
   "cell_type": "code",
   "execution_count": null,
   "metadata": {},
   "outputs": [],
   "source": [
    "\n",
    "xmin_limits1 = [350, 735, 1147, 1689, 2270, 2716, 3090, 3493]\n",
    "xmax_limits1 = [736, 1089, 1540, 2089, 2533, 3048, 3453, 3747]\n",
    "\n",
    "xmin_limits2 = [350, 725, 1134, 1674, 2236, 2678, 3140, 3476]\n",
    "xmax_limits2 = [720, 1100, 1517, 1974, 2540, 3034, 3440, 3768]\n",
    "\n",
    "y1 = [1045, 1010, 975, 940, 905, 870, 835, 800, 765, 730, 695, 660, 625, 590, 555, 520, 485, 450, 415, 380, 345, \n",
    "      310, 275, 240, 205, 170, 135, 100, 65, 30, 0]\n",
    "\n",
    "y2 = [1115, 1150, 1185, 1220, 1255, 1290, 1325, 1360, 1395, 1430, 1465, 1500, 1535, 1570, 1605, 1640, 1675, 1710, \n",
    "      1745, 1780, 1815, 1850, 1885, 1920, 1955, 1990, 2025, 2060, 2095, 2130, 2160]\n",
    "\n",
    "# xcenters1 = [543.0, 886.5, 1343.5, 1889.0, 2401.5, 2882.0, 3253.5, 3561.5] \n",
    "# xcenters2 = [487.0, 760.0, 1150.0, 1673.5, 2226.0, 2746.0, 3201.0, 3510.5] \n",
    "\n",
    "xcenters1 = [(a + b) / 2 for a, b in zip(xmin_limits1, xmax_limits1)]     # -- X centers of setA\n",
    "xcenters2 = [(c + d) / 2 for c, d in zip(xmin_limits2, xmax_limits2)]   # -- X centers of setB\n",
    "\n",
    "xlow_lim = [321, 684, 1134, 1674, 2236, 2678, 3054, 3363]\n",
    "xhigh_lim = [749, 1092, 1540, 2089, 2539, 3048, 3452, 3768]\n",
    "\n",
    "ycenters = [1080] * 8\n",
    "\n",
    "horizontal_va1 = counter.calculate_angles(xmin_limits1, ycenters)\n",
    "horizontal_va2 = counter.calculate_angles(xmax_limits1, ycenters)\n",
    "vertical_fov = counter.calculate_vertical_fov()\n",
    "\n",
    "horz_va1 = []\n",
    "horz_va2 = []\n",
    "\n",
    "for i in range(8):\n",
    "    \n",
    "    horz_va1.append(np.round(horizontal_va1[i], 2))\n",
    "    horz_va2.append(np.round(horizontal_va2[i], 2))\n",
    "    \n",
    "print(horz_va1)\n",
    "print(horz_va2)\n",
    "\n",
    "print(vertical_fov)"
   ]
  },
  {
   "cell_type": "code",
   "execution_count": null,
   "metadata": {},
   "outputs": [],
   "source": []
  }
 ],
 "metadata": {
  "language_info": {
   "name": "python"
  }
 },
 "nbformat": 4,
 "nbformat_minor": 2
}
